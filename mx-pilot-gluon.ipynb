{
 "cells": [
  {
   "cell_type": "markdown",
   "metadata": {},
   "source": [
    "## Gluon Pilot for Donkey car with early stopping and lr decay\n",
    "\n",
    "@author: Sunil Mallya"
   ]
  },
  {
   "cell_type": "code",
   "execution_count": 2,
   "metadata": {
    "collapsed": true
   },
   "outputs": [],
   "source": [
    "def linear_bin(a):\n",
    "    a = a + 1\n",
    "    b = round(a / (2./14))\n",
    "    return int(b)\n",
    "\n",
    "def linear_unbin(arr):\n",
    "    b = np.argmax(arr)\n",
    "    a = b *(2./14) - 1\n",
    "    return a"
   ]
  },
  {
   "cell_type": "code",
   "execution_count": 3,
   "metadata": {},
   "outputs": [],
   "source": [
    "import numpy as np\n",
    "from PIL import Image\n",
    "import os\n",
    "\n",
    "PATH = 'trainingdata/'\n",
    "image_paths = os.listdir(PATH)\n",
    "\n",
    "images = []\n",
    "a_labels = []\n",
    "t_labels = []\n",
    "for image_path in image_paths:\n",
    "    f = PATH + image_path\n",
    "    parts = f.split('ttl_')[1].split('_')\n",
    "    ttl = float(parts[0])\n",
    "    agl = float(parts[2])\n",
    "    \n",
    "    img = np.array(Image.open(f)) #.resize((120, 160), Image.BILINEAR))\n",
    "    img = np.swapaxes(img, 0, 2)\n",
    "    img = np.swapaxes(img, 1, 2)\n",
    "    images.append(img)\n",
    "    a_labels.append(linear_bin(agl))\n",
    "    t_labels.append(ttl)\n",
    "\n",
    "np_images = np.stack(images).astype('float32')\n",
    "a_labels = np.stack(a_labels) #.astype('float32')\n",
    "t_labels = np.stack(t_labels).astype('float32')"
   ]
  },
  {
   "cell_type": "code",
   "execution_count": 4,
   "metadata": {},
   "outputs": [
    {
     "data": {
      "text/plain": [
       "(12800, 3, 120, 160)"
      ]
     },
     "execution_count": 4,
     "metadata": {},
     "output_type": "execute_result"
    }
   ],
   "source": [
    "np_images.shape"
   ]
  },
  {
   "cell_type": "code",
   "execution_count": 5,
   "metadata": {},
   "outputs": [
    {
     "data": {
      "text/plain": [
       "(12800,)"
      ]
     },
     "execution_count": 5,
     "metadata": {},
     "output_type": "execute_result"
    }
   ],
   "source": [
    "a_labels.shape\n"
   ]
  },
  {
   "cell_type": "code",
   "execution_count": 76,
   "metadata": {
    "collapsed": true
   },
   "outputs": [],
   "source": [
    "import mxnet as mx\n",
    "from mxnet import nd, autograd\n",
    "from mxnet import gluon\n",
    "import numpy as np\n",
    "mx.random.seed(1)\n",
    "\n",
    "class BaseCNNClassifier(mx.gluon.Block):\n",
    "    def __init__(self, ctx):\n",
    "        super(BaseCNNClassifier, self).__init__()\n",
    "        self.ctx = ctx\n",
    "        self.net = None\n",
    "        self.loss_vals = []\n",
    "        self.train_acc = []\n",
    "        self.val_acc = []\n",
    "        \n",
    "    #@override\n",
    "    def build_model(self, convs, num_fc, num_classes):\n",
    "        '''\n",
    "        Default activation is relu\n",
    "        '''\n",
    "        # convs = [(channel, kernel_sz, pool_siz)triplets *N]\n",
    "        net = gluon.nn.HybridSequential(prefix='')\n",
    "        with net.name_scope():\n",
    "            for ch, k_sz, p_sz in convs:\n",
    "                net.add(gluon.nn.Conv2D(channels=ch, kernel_size=k_sz, activation='relu'))\n",
    "                net.add(gluon.nn.MaxPool2D(pool_size=p_sz, strides=2)) # strides fixed for now\n",
    "            \n",
    "            #net = gluon.nn.HybridSequential()\n",
    "            #net.add(cnn_layers)\n",
    "            \n",
    "            # Flatten and apply fully connected layers\n",
    "            net.add(gluon.nn.Flatten())\n",
    "            net.add(gluon.nn.Dense(num_fc, activation=\"relu\"))\n",
    "            net.add(gluon.nn.Dense(num_classes))\n",
    "\n",
    "        # speed up execution with hybridization\n",
    "        net.hybridize()\n",
    "        self.net = net\n",
    "    \n",
    "    def predict(self, batch):\n",
    "        nd_imgs = mx.nd.array(batch)\n",
    "        ctx_nd_imgs = nd_imgs.as_in_context(ctx)\n",
    "        output = self.net(ctx_nd_imgs)\n",
    "        return nd.argmax(output, axis=1).asnumpy()\n",
    "\n",
    "    def compile_model(self, loss=None, optimizer='sgd', lr=1E-3, init_mg=2.24):\n",
    "        self.net.collect_params().initialize(mx.init.Xavier(magnitude=init_mg), ctx=self.ctx)\n",
    "        self.loss = gluon.loss.SoftmaxCrossEntropyLoss() if loss is None else loss\n",
    "        self.optimizer = mx.gluon.Trainer(self.net.collect_params(), \n",
    "                                          optimizer, {'learning_rate': lr})\n",
    "    \n",
    "    def evaluate_accuracy(self, data_iterator):\n",
    "        acc = mx.metric.Accuracy()\n",
    "        for i, (data, label) in enumerate(data_iterator):\n",
    "            data = data.as_in_context(ctx)\n",
    "            label = label.as_in_context(ctx)\n",
    "            output = self.net(data)\n",
    "            predictions = nd.argmax(output, axis=1)\n",
    "            acc.update(preds=predictions, labels=label)\n",
    "        return acc.get()[1]\n",
    "    \n",
    "    def fit(self, train_data, test_data, epochs):\n",
    "        \n",
    "        smoothing_constant = .01\n",
    "        ctx = self.ctx\n",
    "        \n",
    "        for e in range(epochs):\n",
    "            for i, (data, label) in enumerate(train_data):\n",
    "                data = data.as_in_context(ctx)\n",
    "                label = label.as_in_context(ctx)\n",
    "                #print data.shape, label.shape\n",
    "                with autograd.record(train_mode=True):\n",
    "                    output = self.net(data)\n",
    "                    loss = self.loss(output, label)\n",
    "                loss.backward()\n",
    "                self.optimizer.step(data.shape[0])\n",
    "\n",
    "                curr_loss = nd.mean(loss).asscalar()\n",
    "                moving_loss = (curr_loss if ((i == 0) and (e == 0)) \n",
    "                               else (1 - smoothing_constant) * moving_loss + (smoothing_constant) * curr_loss)\n",
    "\n",
    "            test_accuracy = self.evaluate_accuracy(test_data)\n",
    "            train_accuracy = self.evaluate_accuracy(train_data)\n",
    "            print(\"Epoch %s. Loss: %s, Train_acc %s, Test_acc %s\" % (e, moving_loss, train_accuracy, test_accuracy))\n",
    "            self.loss_vals.append(moving_loss)\n",
    "            self.train_acc.append(train_accuracy)\n",
    "            self.val_acc.append(test_accuracy)\n",
    "        return self.loss_vals, self.train_acc, self.val_acc\n",
    "\n",
    "    def save(self, filename='mynet.params'):\n",
    "        self.net.save_params(filename)\n",
    "        \n",
    "    def load(self, filename):\n",
    "        self.net.load_params(filename, ctx=self.ctx)"
   ]
  },
  {
   "cell_type": "code",
   "execution_count": null,
   "metadata": {
    "collapsed": true
   },
   "outputs": [],
   "source": [
    "'''\n",
    "@author: Sunil Mallya\n",
    "'''\n",
    "### Donkey Gluon Pilot\n",
    "\n",
    "import mxnet as mx\n",
    "from mxnet import nd, autograd\n",
    "from mxnet import gluon\n",
    "import numpy as np\n",
    "mx.random.seed(1)\n",
    "\n",
    "class BaseCNNClassifier(mx.gluon.Block):\n",
    "    def __init__(self, ctx):\n",
    "        super(BaseCNNClassifier, self).__init__()\n",
    "        self.ctx = ctx\n",
    "        self.net = None\n",
    "        self.loss_vals = []\n",
    "        self.train_acc = []\n",
    "        self.val_acc = []\n",
    "        \n",
    "    #@override\n",
    "    def build_model(self, convs, num_fc, num_classes):\n",
    "        '''\n",
    "        Default activation is relu\n",
    "        '''\n",
    "        # convs = [(channel, kernel_sz, pool_siz)triplets *N]\n",
    "        net = gluon.nn.HybridSequential(prefix='')\n",
    "        with net.name_scope():\n",
    "            for ch, k_sz, p_sz in convs:\n",
    "                net.add(gluon.nn.Conv2D(channels=ch, kernel_size=k_sz, activation='relu'))\n",
    "                net.add(gluon.nn.MaxPool2D(pool_size=p_sz, strides=2)) # strides fixed for now\n",
    "            \n",
    "            #net = gluon.nn.HybridSequential()\n",
    "            #net.add(cnn_layers)\n",
    "            \n",
    "            # Flatten and apply fully connected layers\n",
    "            net.add(gluon.nn.Flatten())\n",
    "            net.add(gluon.nn.Dense(num_fc, activation=\"relu\"))\n",
    "            net.add(gluon.nn.Dense(num_classes))\n",
    "\n",
    "        # speed up execution with hybridization\n",
    "        net.hybridize()\n",
    "        self.net = net\n",
    "    \n",
    "    def predict(self, batch):\n",
    "        nd_imgs = mx.nd.array(batch)\n",
    "        ctx_nd_imgs = nd_imgs.as_in_context(ctx)\n",
    "        output = self.net(ctx_nd_imgs)\n",
    "        return nd.argmax(output, axis=1).asnumpy()\n",
    "\n",
    "    def compile_model(self, loss=None, optimizer='sgd', lr=1E-3, init_mg=2.24):\n",
    "        self.net.collect_params().initialize(mx.init.Xavier(magnitude=init_mg), ctx=self.ctx)\n",
    "        self.loss = gluon.loss.SoftmaxCrossEntropyLoss() if loss is None else loss\n",
    "        self.optimizer = mx.gluon.Trainer(self.net.collect_params(), \n",
    "                                          optimizer, {'learning_rate': lr})\n",
    "    \n",
    "    def evaluate_accuracy(self, data_iterator):\n",
    "        acc = mx.metric.Accuracy()\n",
    "        for i, (data, label) in enumerate(data_iterator):\n",
    "            data = data.as_in_context(ctx)\n",
    "            label = label.as_in_context(ctx)\n",
    "            output = self.net(data)\n",
    "            predictions = nd.argmax(output, axis=1)\n",
    "            acc.update(preds=predictions, labels=label)\n",
    "        return acc.get()[1]\n",
    "    \n",
    "    def fit(self, train_data, test_data, epochs):\n",
    "        \n",
    "        smoothing_constant = .01\n",
    "        ctx = self.ctx\n",
    "        \n",
    "        for e in range(epochs):\n",
    "            for i, (data, label) in enumerate(train_data):\n",
    "                data = data.as_in_context(ctx)\n",
    "                label = label.as_in_context(ctx)\n",
    "                #print data.shape, label.shape\n",
    "                with autograd.record(train_mode=True):\n",
    "                    output = self.net(data)\n",
    "                    loss = self.loss(output, label)\n",
    "                loss.backward()\n",
    "                self.optimizer.step(data.shape[0])\n",
    "\n",
    "                curr_loss = nd.mean(loss).asscalar()\n",
    "                moving_loss = (curr_loss if ((i == 0) and (e == 0)) \n",
    "                               else (1 - smoothing_constant) * moving_loss + (smoothing_constant) * curr_loss)\n",
    "\n",
    "            test_accuracy = self.evaluate_accuracy(test_data)\n",
    "            train_accuracy = self.evaluate_accuracy(train_data)\n",
    "            print(\"Epoch %s. Loss: %s, Train_acc %s, Test_acc %s\" % (e, moving_loss, train_accuracy, test_accuracy))\n",
    "            self.loss_vals.append(moving_loss)\n",
    "            self.train_acc.append(train_accuracy)\n",
    "            self.val_acc.append(test_accuracy)\n",
    "        return self.loss_vals, self.train_acc, self.val_acc\n",
    "\n",
    "    def save(self, filename='mynet.params'):\n",
    "        self.net.save_params(filename)\n",
    "        \n",
    "    def load(self, filename):\n",
    "        self.net.load_params(filename, ctx=self.ctx)\n",
    "\n",
    "class MXNetPilot():\n",
    "    def load(self, model_path):\n",
    "        pass\n",
    "    \n",
    "    def train(self, train_iter, val_iter, \n",
    "              saved_model_path, num_epoch=100, steps=100, train_split=0.8,\n",
    "              verbose=1, min_delta=.0005, patience=5, use_early_stop=True):\n",
    "        loss_vals, train_acc, val_acc = self.model.fit(train_iter, val_iter, epochs=25)\n",
    "        return (loss_vals, train_acc, val_acc)     \n",
    "        \n",
    "    def get_train_val_iter(self, train_df, val_df, batch_size):\n",
    "        train_iter = getIter(train_df, batch_size)\n",
    "        val_iter = getIter(val_df, batch_size)\n",
    "        return train_iter, val_iter\n",
    "        \n",
    "class GluonCategorical(MXNetPilot):\n",
    "    def __init__(self, model=None, num_outputs=None, *args, **kwargs):\n",
    "        super(GluonCategorical, self).__init__(*args, **kwargs)\n",
    "        if model:\n",
    "            self.model = model\n",
    "        else:\n",
    "            self.model = default_gluon_categorical()\n",
    "    \n",
    "    def run(self, img_arr):\n",
    "        print(img_arr.shape)\n",
    "        img_arr = np.swapaxes(img_arr, 0, 2)\n",
    "        img_arr = np.swapaxes(img_arr, 1, 2)\n",
    "        img_arr = img_arr.reshape((1,) + img_arr.shape)\n",
    "        outputs = self.mode.predict([img_arr])\n",
    "        angle_unbinned = dk.utils.linear_unbin(outputs)\n",
    "        throttle = 0.25 #constant #multi output not implemented\n",
    "        return angle_unbinned, throttle\n",
    "\n",
    "## Bin helpers    \n",
    "def linear_bin(a):\n",
    "    a = a + 1\n",
    "    b = round(a / (2./14))\n",
    "    return int(b)\n",
    "\n",
    "def linear_unbin(arr):\n",
    "    b = np.argmax(arr)\n",
    "    a = b *(2./14) - 1\n",
    "    return a\n",
    "\n",
    "\n",
    "# iterator\n",
    "def getIter(df, batch):\n",
    "    images = []\n",
    "    a_labels = []\n",
    "    t_labels = []\n",
    "\n",
    "    for index, row in df.iterrows():\n",
    "        img = np.array(Image.open(row['cam/image_array'])) #.resize((120, 160), Image.BILINEAR))\n",
    "        img = np.swapaxes(img, 0, 2)\n",
    "        img = np.swapaxes(img, 1, 2)\n",
    "        images.append(img)\n",
    "        a_labels.append(linear_bin(row['user/angle']) #categorical\n",
    "        t_labels.append(row['user/throttle'])\n",
    "\n",
    "    np_images = np.stack(images).astype('float32')\n",
    "    a_labels = np.stack(a_labels)\n",
    "    t_labels = np.stack(t_labels).astype('float32')\n",
    "\n",
    "    #return mx.io.NDArrayIter({'data': np_images}, {'angle': a_labels, 'throttle': t_labels}, batch_size=batch)\n",
    "    return mx.gluon.data.DataLoader(mx.gluon.data.ArrayDataset(np_images, a_labels),\n",
    "                                                batch_size=batch, shuffle=True)\n",
    "def default_mxnet_linear():\n",
    "    num_fc = 64\n",
    "    num_classes = 15 #num of categories\n",
    "    convs = [(24,5,2), (32,5,2), (64,5,2)]\n",
    "\n",
    "    ctx = mx.gpu()\n",
    "    cnn = BaseCNNClassifier(ctx)\n",
    "    cnn.build_model(convs, num_fc, num_classes)\n",
    "    cnn.compile_model(optimizer='adam')\n",
    "    #print cnn.net.collect_params()\n",
    "    return cnn"
   ]
  },
  {
   "cell_type": "code",
   "execution_count": 53,
   "metadata": {},
   "outputs": [
    {
     "name": "stdout",
     "output_type": "stream",
     "text": [
      "(10240, 3, 120, 160) (10240,)\n"
     ]
    }
   ],
   "source": [
    "batch_size = 64\n",
    "\n",
    "train_split = int(np_images.shape[0] *0.8)\n",
    "X_train, X_test = np_images[:train_split], np_images[train_split:]\n",
    "y_train, y_test = a_labels[:train_split], a_labels[train_split:]\n",
    "\n",
    "print X_train.shape, y_train.shape\n",
    "train_data = mx.gluon.data.DataLoader(mx.gluon.data.ArrayDataset(X_train, y_train),\n",
    "                                                batch_size=batch_size, shuffle=True)\n",
    "test_data = mx.gluon.data.DataLoader(mx.gluon.data.ArrayDataset(X_test, y_test),\n",
    "                                                batch_size=batch_size, shuffle=True)"
   ]
  },
  {
   "cell_type": "code",
   "execution_count": 68,
   "metadata": {},
   "outputs": [
    {
     "name": "stdout",
     "output_type": "stream",
     "text": [
      "(\n",
      "  Parameter conv0_weight (shape=(24L, 0L, 5L, 5L), dtype=<type 'numpy.float32'>)\n",
      "  Parameter conv0_bias (shape=(24L,), dtype=<type 'numpy.float32'>)\n",
      "  Parameter conv1_weight (shape=(32L, 0L, 5L, 5L), dtype=<type 'numpy.float32'>)\n",
      "  Parameter conv1_bias (shape=(32L,), dtype=<type 'numpy.float32'>)\n",
      "  Parameter conv2_weight (shape=(64L, 0L, 5L, 5L), dtype=<type 'numpy.float32'>)\n",
      "  Parameter conv2_bias (shape=(64L,), dtype=<type 'numpy.float32'>)\n",
      "  Parameter dense0_weight (shape=(64, 0), dtype=<type 'numpy.float32'>)\n",
      "  Parameter dense0_bias (shape=(64,), dtype=<type 'numpy.float32'>)\n",
      "  Parameter dense1_weight (shape=(15, 0), dtype=<type 'numpy.float32'>)\n",
      "  Parameter dense1_bias (shape=(15,), dtype=<type 'numpy.float32'>)\n",
      ")\n",
      "Epoch 0. Loss: 4.42938834554, Train_acc 0.51875, Test_acc 0.501171875\n",
      "Epoch 1. Loss: 1.94297836731, Train_acc 0.54755859375, Test_acc 0.524609375\n",
      "Epoch 2. Loss: 1.3538606905, Train_acc 0.59345703125, Test_acc 0.532421875\n",
      "Epoch 3. Loss: 1.16194418151, Train_acc 0.63876953125, Test_acc 0.555859375\n",
      "Epoch 4. Loss: 1.02986278581, Train_acc 0.6884765625, Test_acc 0.56953125\n",
      "Epoch 5. Loss: 0.915534345861, Train_acc 0.71845703125, Test_acc 0.60078125\n",
      "Epoch 6. Loss: 0.817532062991, Train_acc 0.7658203125, Test_acc 0.60078125\n",
      "Epoch 7. Loss: 0.73659364876, Train_acc 0.79287109375, Test_acc 0.612109375\n",
      "Epoch 8. Loss: 0.652741307638, Train_acc 0.82626953125, Test_acc 0.63359375\n",
      "Epoch 9. Loss: 0.589004387821, Train_acc 0.85419921875, Test_acc 0.6375\n",
      "Epoch 10. Loss: 0.514660660366, Train_acc 0.864453125, Test_acc 0.65546875\n",
      "Epoch 11. Loss: 0.474382560231, Train_acc 0.87919921875, Test_acc 0.655078125\n",
      "Epoch 12. Loss: 0.435902186407, Train_acc 0.88017578125, Test_acc 0.6515625\n",
      "Epoch 13. Loss: 0.408047245296, Train_acc 0.90986328125, Test_acc 0.676171875\n",
      "Epoch 14. Loss: 0.37049633138, Train_acc 0.87607421875, Test_acc 0.658984375\n",
      "Epoch 15. Loss: 0.369814854193, Train_acc 0.9052734375, Test_acc 0.671875\n",
      "Epoch 16. Loss: 0.339099385547, Train_acc 0.92373046875, Test_acc 0.680078125\n",
      "Epoch 17. Loss: 0.327332246654, Train_acc 0.89560546875, Test_acc 0.66484375\n",
      "Epoch 18. Loss: 0.311510534805, Train_acc 0.92734375, Test_acc 0.683984375\n",
      "Epoch 19. Loss: 0.302701342833, Train_acc 0.92265625, Test_acc 0.683984375\n",
      "Epoch 20. Loss: 0.299160040354, Train_acc 0.927734375, Test_acc 0.69453125\n",
      "Epoch 21. Loss: 0.304337645395, Train_acc 0.913671875, Test_acc 0.666796875\n",
      "Epoch 22. Loss: 0.293281607296, Train_acc 0.9251953125, Test_acc 0.683984375\n",
      "Epoch 23. Loss: 0.269042660397, Train_acc 0.93642578125, Test_acc 0.698828125\n",
      "Epoch 24. Loss: 0.263346968151, Train_acc 0.93505859375, Test_acc 0.6921875\n"
     ]
    }
   ],
   "source": [
    "num_fc = 64\n",
    "num_classes = 15 #num_outputs\n",
    "convs = [(24,5,2), (32,5,2), (64,5,2)]\n",
    "\n",
    "ctx = mx.gpu()\n",
    "cnn = BaseCNNClassifier(ctx)\n",
    "cnn.build_model(convs, num_fc, num_classes)\n",
    "cnn.compile_model(optimizer='adam')\n",
    "print cnn.net.collect_params()\n",
    "\n",
    "loss_vals, train_acc, val_acc = cnn.fit(train_data, test_data, epochs=25)"
   ]
  },
  {
   "cell_type": "code",
   "execution_count": 57,
   "metadata": {
    "collapsed": true
   },
   "outputs": [],
   "source": [
    "cnn.save()"
   ]
  },
  {
   "cell_type": "code",
   "execution_count": 47,
   "metadata": {
    "collapsed": true
   },
   "outputs": [],
   "source": [
    "cnn.net.collect_params().save('mynet.params')"
   ]
  },
  {
   "cell_type": "code",
   "execution_count": 77,
   "metadata": {
    "collapsed": true
   },
   "outputs": [],
   "source": [
    "num_fc = 64\n",
    "num_classes = 15 #num_outputs\n",
    "convs = [(24,5,2), (32,5,2), (64,5,2)]\n",
    "\n",
    "ctx = mx.gpu()\n",
    "cnn = BaseCNNClassifier(ctx)\n",
    "cnn.build_model(convs, num_fc, num_classes)\n",
    "cnn.compile_model(optimizer='adam')\n",
    "cnn.load('mynet.params')"
   ]
  },
  {
   "cell_type": "code",
   "execution_count": 78,
   "metadata": {},
   "outputs": [
    {
     "data": {
      "text/plain": [
       "array([ 4.,  7.,  7.,  7.,  7.], dtype=float32)"
      ]
     },
     "execution_count": 78,
     "metadata": {},
     "output_type": "execute_result"
    }
   ],
   "source": [
    "cnn.predict(np_images[5:10])"
   ]
  },
  {
   "cell_type": "code",
   "execution_count": 69,
   "metadata": {},
   "outputs": [
    {
     "data": {
      "text/plain": [
       "(5.0, 5)"
      ]
     },
     "execution_count": 69,
     "metadata": {},
     "output_type": "execute_result"
    }
   ],
   "source": [
    "agl = cnn.predict([np_images[21]])\n",
    "agl, a_labels[21]"
   ]
  },
  {
   "cell_type": "code",
   "execution_count": 38,
   "metadata": {},
   "outputs": [
    {
     "data": {
      "text/plain": [
       "[<matplotlib.lines.Line2D at 0x7f561c097090>]"
      ]
     },
     "execution_count": 38,
     "metadata": {},
     "output_type": "execute_result"
    },
    {
     "data": {
      "image/png": "[encoded data removed]",
      "text/plain": [
       "<matplotlib.figure.Figure at 0x7f561c097250>"
      ]
     },
     "metadata": {},
     "output_type": "display_data"
    }
   ],
   "source": [
    "%matplotlib inline\n",
    "import matplotlib.pyplot as plt\n",
    "\n",
    "plt.plot(train_acc)\n",
    "plt.plot(val_acc)"
   ]
  },
  {
   "cell_type": "code",
   "execution_count": 39,
   "metadata": {},
   "outputs": [
    {
     "data": {
      "text/plain": [
       "[<matplotlib.lines.Line2D at 0x7f55fbef7310>]"
      ]
     },
     "execution_count": 39,
     "metadata": {},
     "output_type": "execute_result"
    },
    {
     "data": {
      "image/png": "[encoded data removed]",
      "text/plain": [
       "<matplotlib.figure.Figure at 0x7f55fbf7d890>"
      ]
     },
     "metadata": {},
     "output_type": "display_data"
    }
   ],
   "source": [
    "plt.plot(loss_vals)\n"
   ]
  },
  {
   "cell_type": "code",
   "execution_count": null,
   "metadata": {
    "collapsed": true
   },
   "outputs": [],
   "source": []
  }
 ],
 "metadata": {
  "kernelspec": {
   "display_name": "Python 2",
   "language": "python",
   "name": "python2"
  },
  "language_info": {
   "codemirror_mode": {
    "name": "ipython",
    "version": 2
   },
   "file_extension": ".py",
   "mimetype": "text/x-python",
   "name": "python",
   "nbconvert_exporter": "python",
   "pygments_lexer": "ipython2",
   "version": "2.7.12"
  }
 },
 "nbformat": 4,
 "nbformat_minor": 2
}
